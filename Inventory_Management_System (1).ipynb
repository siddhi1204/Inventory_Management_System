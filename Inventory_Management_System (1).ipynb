{
  "nbformat": 4,
  "nbformat_minor": 0,
  "metadata": {
    "colab": {
      "name": "Inventory_Management_System",
      "provenance": [],
      "collapsed_sections": []
    },
    "kernelspec": {
      "name": "python3",
      "display_name": "Python 3"
    },
    "language_info": {
      "name": "python"
    }
  },
  "cells": [
    {
      "cell_type": "markdown",
      "metadata": {
        "id": "6ddJdAZ8FoYf"
      },
      "source": [
        "# Generating Sales and Record file for the first time"
      ]
    },
    {
      "cell_type": "code",
      "metadata": {
        "id": "E2cgoPy9FudC"
      },
      "source": [
        "fd = open('record.json', 'r')\n",
        "t = fd.read()\n",
        "fd.close()"
      ],
      "execution_count": 41,
      "outputs": []
    },
    {
      "cell_type": "code",
      "metadata": {
        "id": "VanHnc1aAlyL"
      },
      "source": [
        "fd = open('record.json','w')\n",
        "fd.write(t)\n",
        "fd.close()"
      ],
      "execution_count": 32,
      "outputs": []
    },
    {
      "cell_type": "code",
      "metadata": {
        "id": "u7qS4b8wApda"
      },
      "source": [
        "sales = {}"
      ],
      "execution_count": 33,
      "outputs": []
    },
    {
      "cell_type": "code",
      "metadata": {
        "id": "67jFrZRmApks"
      },
      "source": [
        "import json"
      ],
      "execution_count": 34,
      "outputs": []
    },
    {
      "cell_type": "code",
      "metadata": {
        "id": "Pnm7W2ZGAvYT"
      },
      "source": [
        "sales = json.dumps(sales)"
      ],
      "execution_count": 35,
      "outputs": []
    },
    {
      "cell_type": "code",
      "metadata": {
        "id": "jaydYTzPAx8b"
      },
      "source": [
        "fd = open(\"sales.json\", 'w')\n",
        "fd.write(sales)\n",
        "fd.close()"
      ],
      "execution_count": 36,
      "outputs": []
    },
    {
      "cell_type": "markdown",
      "metadata": {
        "id": "RSbq8UOHHA7B"
      },
      "source": [
        "# Importing Libraries"
      ]
    },
    {
      "cell_type": "code",
      "metadata": {
        "id": "OaMIrwGrA0ld"
      },
      "source": [
        "import json\n",
        "import time"
      ],
      "execution_count": 37,
      "outputs": []
    },
    {
      "cell_type": "code",
      "metadata": {
        "colab": {
          "base_uri": "https://localhost:8080/"
        },
        "id": "eZbnFXqqBE6N",
        "outputId": "cfe4f6c0-3af5-4c8f-da0a-24507d09af96"
      },
      "source": [
        "# Loading Inventory and Converting it to Dictionary\n",
        "fd = open('record.json','r')\n",
        "t = fd.read()\n",
        "fd.close()\n",
        "dct = json.loads(t)\n",
        "\n",
        "# Loading Sales and Converting it to Dictionary\n",
        "fd = open(\"sales.json\", 'r')\n",
        "sl = fd.read()\n",
        "fd.close()\n",
        "sales = json.loads(sl)\n",
        "\n",
        "\n",
        "# Displaying Menu\n",
        "print(\"**********************************************\")\n",
        "for i in dct.keys():\n",
        "  print(i, dct[i])\n",
        "\n",
        "print(\"******************************************\\n\")\n",
        "\n",
        "# Taking Input from User to Enter what he/she wants to purchase\n",
        "ui_prod  = str(input(\"Enter the product_Id: \"))\n",
        "ui_quant = int(input(\"Enter the quantity: \"))\n",
        "\n",
        "\n",
        "if (ui_prod in dct.keys()):                                                     # Checking If product Exists or not\n",
        "    if (dct[ui_prod]['qn'] >= ui_quant):                                        # If I'm having enough Quantity\n",
        "      print(\"Name:\",dct[ui_prod]['name'])\n",
        "      print(\"Price:\",dct[ui_prod]['pr'])\n",
        "      print(\"Quantity:\", ui_quant)\n",
        "      print(\"------------------------------\")\n",
        "      print(\"Billing Amount:\", dct[ui_prod]['pr'] * ui_quant)\n",
        "\n",
        "      dct[ui_prod]['qn'] = dct[ui_prod]['qn'] - ui_quant                        # Updating Inventory\n",
        "\n",
        "      sales[str(len(sales)+1)] = {'prod_id' : ui_prod,                          # Updating Transection\n",
        "                                  \"time_pr\" :  time.ctime(), \n",
        "                                  'bill' : dct[ui_prod]['pr'] * ui_quant, \n",
        "                                  'qn' : ui_quant, \n",
        "                                  'pr' : dct[ui_prod]['pr'], \n",
        "                                  'pr_name' : dct[ui_prod]['name']}\n",
        "\n",
        "\n",
        "    else:                                                                       # If I'm not having enough Quantity\n",
        "      print(\"Sorry, We are not having that much of quantity.\")\n",
        "      print(\"We're only having\",dct[ui_prod]['qn'],\"quantity.\")\n",
        "      print(\"Would you like to purchase or not (Y/N)\")\n",
        "      ch = str(input(\"Y/N\"))\n",
        "\n",
        "      if (ch == \"Y\"):                                                           # If user wants to purchase the quantitry we're having\n",
        "        print(\"Name:\",dct[ui_prod]['name'])\n",
        "        print(\"Price:\",dct[ui_prod]['pr'])\n",
        "        print(\"Quantity:\", dct[ui_prod]['qn'])\n",
        "        print(\"------------------------------\")\n",
        "        print(\"Billing Amount:\", dct[ui_prod]['pr'] * dct[ui_prod]['qn'])\n",
        "\n",
        "        dct[ui_prod]['qn'] = 0                                                  # Updating Inventory\n",
        "\n",
        "        sales[str(len(sales)+1)] = {'prod_id' : ui_prod,                        # Updating Transection\n",
        "                                    \"time_pr\" :  time.ctime(), \n",
        "                                    'bill' : dct[ui_prod]['pr'] * dct[ui_prod]['qn'], \n",
        "                                    'qn' : dct[ui_prod]['qn'], \n",
        "                                    'pr' : dct[ui_prod]['pr'], \n",
        "                                    'pr_name' : dct[ui_prod]['name']}\n",
        "\n",
        "      else:                                                                     # If user press anything Except Y\n",
        "        print(\"Thankyou!\")\n",
        "\n",
        "else:                                                                           # Product ID Doesn't exists\n",
        "  print(\"------------------------------\")\n",
        "  print(\"Product doesn't exist!\")\n",
        "  print(\"Please enter a valid product id\")\n",
        "  print(\"------------------------------\")\n",
        "\n",
        "\n",
        "\n",
        "sl = json.dumps(sales)                                                          # Updating Sales File\n",
        "fd = open('sales.json','w')\n",
        "fd.write(sl)\n",
        "fd.close()\n",
        "\n",
        "print(\"------------------------------\")\n",
        "print(\"Data Updated in Sales File!\")\n",
        "\n",
        "js = json.dumps(dct)                                                            # Updating Inventory File\n",
        "fd = open('record.json','w')\n",
        "fd.write(js)\n",
        "fd.close()\n",
        "\n",
        "print(\"Data Updated in Inventory File!\")"
      ],
      "execution_count": 38,
      "outputs": [
        {
          "output_type": "stream",
          "name": "stdout",
          "text": [
            "**********************************************\n",
            "1001 {'name': 'Choco Cake', 'qn': 31, 'pr': 100}\n",
            "1002 {'name': 'Milk Cake', 'pr': 800, 'qn': 100}\n",
            "1003 {'name': 'Drink', 'pr': 85, 'qn': 100}\n",
            "1004 {'name': 'Candy', 'pr': 5, 'qn': 1000}\n",
            "1005 {'name': 'Pen', 'pr': 20, 'qn': 95}\n",
            "1006 {'name': 'Phone', 'pr': 50000, 'qn': 10}\n",
            "1007 {'name': 'Mic', 'pr': 1500, 'qn': 0}\n",
            "1008 {'name': 'Case', 'pr': 599, 'qn': 5}\n",
            "1009 {'name': 'Keyboard', 'pr': 1999, 'qn': 10}\n",
            "******************************************\n",
            "\n",
            "Enter the product_Id: 1001\n",
            "Enter the quantity: 5\n",
            "Name: Choco Cake\n",
            "Price: 100\n",
            "Quantity: 5\n",
            "------------------------------\n",
            "Billing Amount: 500\n",
            "------------------------------\n",
            "Data Updated in Sales File!\n",
            "Data Updated in Inventory File!\n"
          ]
        }
      ]
    },
    {
      "cell_type": "markdown",
      "metadata": {
        "id": "onx_XLHFIDW_"
      },
      "source": [
        "# sales product details and time"
      ]
    },
    {
      "cell_type": "code",
      "metadata": {
        "colab": {
          "base_uri": "https://localhost:8080/"
        },
        "id": "8oZ4CcNlBSQT",
        "outputId": "3885f463-caa4-4b3d-b119-801048a21dc8"
      },
      "source": [
        "sales"
      ],
      "execution_count": 40,
      "outputs": [
        {
          "output_type": "execute_result",
          "data": {
            "text/plain": [
              "{'1': {'bill': 500,\n",
              "  'pr': 100,\n",
              "  'pr_name': 'Choco Cake',\n",
              "  'prod_id': '1001',\n",
              "  'qn': 5,\n",
              "  'time_pr': 'Thu Sep 30 14:03:51 2021'}}"
            ]
          },
          "metadata": {},
          "execution_count": 40
        }
      ]
    },
    {
      "cell_type": "markdown",
      "metadata": {
        "id": "z37uzIS6IXOc"
      },
      "source": [
        "# Updated inventery"
      ]
    },
    {
      "cell_type": "code",
      "metadata": {
        "colab": {
          "base_uri": "https://localhost:8080/"
        },
        "id": "G7zhdMDzIZZM",
        "outputId": "9f4796e9-9656-4993-a3f1-3e82f80c8dd6"
      },
      "source": [
        "dct"
      ],
      "execution_count": 42,
      "outputs": [
        {
          "output_type": "execute_result",
          "data": {
            "text/plain": [
              "{'1001': {'name': 'Choco Cake', 'pr': 100, 'qn': 26},\n",
              " '1002': {'name': 'Milk Cake', 'pr': 800, 'qn': 100},\n",
              " '1003': {'name': 'Drink', 'pr': 85, 'qn': 100},\n",
              " '1004': {'name': 'Candy', 'pr': 5, 'qn': 1000},\n",
              " '1005': {'name': 'Pen', 'pr': 20, 'qn': 95},\n",
              " '1006': {'name': 'Phone', 'pr': 50000, 'qn': 10},\n",
              " '1007': {'name': 'Mic', 'pr': 1500, 'qn': 0},\n",
              " '1008': {'name': 'Case', 'pr': 599, 'qn': 5},\n",
              " '1009': {'name': 'Keyboard', 'pr': 1999, 'qn': 10}}"
            ]
          },
          "metadata": {},
          "execution_count": 42
        }
      ]
    }
  ]
}